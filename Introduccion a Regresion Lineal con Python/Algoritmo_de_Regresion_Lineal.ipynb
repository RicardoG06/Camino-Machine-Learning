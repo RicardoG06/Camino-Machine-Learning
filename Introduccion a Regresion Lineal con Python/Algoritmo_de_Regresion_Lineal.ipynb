{
  "nbformat": 4,
  "nbformat_minor": 0,
  "metadata": {
    "colab": {
      "name": "Algoritmo de Regresion Lineal.ipynb",
      "provenance": [],
      "collapsed_sections": []
    },
    "kernelspec": {
      "name": "python3",
      "display_name": "Python 3"
    },
    "language_info": {
      "name": "python"
    }
  },
  "cells": [
    {
      "cell_type": "code",
      "metadata": {
        "id": "c85Ff1EFDH3a"
      },
      "source": [
        "import numpy as np\n",
        "import matplotlib.pyplot as plt"
      ],
      "execution_count": 1,
      "outputs": []
    },
    {
      "cell_type": "code",
      "metadata": {
        "id": "TSs1N1KUDdZh"
      },
      "source": [
        "def estimando_b0_b1(x,y):\n",
        "    #Tamaño de X\n",
        "    n = np.size(x)\n",
        "    #Promedios de 'x' e 'y' \n",
        "    promedio_x , promedio_y = np.mean(x) , np.mean(y)\n",
        "    #Calcular sumatoria de XY y XX\n",
        "    Sumatoria_XY = np.sum((x - promedio_x) * (y - promedio_y))\n",
        "    Sumatoria_XX = np.sum((x - promedio_x)**2)\n",
        "    #Coeficientes de regresion\n",
        "    b_1 = Sumatoria_XY/Sumatoria_XX\n",
        "    b_0 = promedio_y - promedio_x * b_1 # y = b_0 + b_1 * x -> b_0 = y - b_1\n",
        "    return (b_0 , b_1)"
      ],
      "execution_count": 10,
      "outputs": []
    },
    {
      "cell_type": "code",
      "metadata": {
        "id": "0vlkzc56Gp1B"
      },
      "source": [
        "#Funcion de Graficado\n",
        "\n",
        "def grafico_regresion(x,y,b):\n",
        "    plt.scatter(x,y,color = \"g\",marker = \"o\" , s = 30) #Arma el esquema\n",
        "    y_pred = b[0] + b[1] * x #Invocare mi funcion estimado_b0_b1 por medio de 'b' y traere lo que retorna en 0 y 1\n",
        "    plt.plot(x , y_pred , color = \"b\") #Grafica la linea de regresion lineal\n",
        "    #etiquetado\n",
        "    plt.xlabel('x - independiente')\n",
        "    plt.ylabel('y - dependiente')\n",
        "    plt.show()#Grafica el esquema"
      ],
      "execution_count": 11,
      "outputs": []
    },
    {
      "cell_type": "code",
      "metadata": {
        "colab": {
          "base_uri": "https://localhost:8080/",
          "height": 296
        },
        "id": "C10MaiR0IlNp",
        "outputId": "d396694a-7ad2-4606-9511-ba5b3c610f14"
      },
      "source": [
        "if __name__ == \"__main__\":\n",
        "  #Dataset\n",
        "  x = np.array([1,2,3,4,5])\n",
        "  y = np.array([2,3,5,6,5])\n",
        "  #Obtenemos b1 y b2 \n",
        "  b = estimando_b0_b1(x,y)\n",
        "  print(f\"Los valores de B_0 = {b[0]} y B_1 = {b[1]}\")\n",
        "  grafico_regresion(x,y,b)\n"
      ],
      "execution_count": 13,
      "outputs": [
        {
          "output_type": "stream",
          "text": [
            "Los valores de B_0 = 1.5 y B_1 = 0.9\n"
          ],
          "name": "stdout"
        },
        {
          "output_type": "display_data",
          "data": {
            "image/png": "[encoded data removed]",
            "text/plain": [
              "<Figure size 432x288 with 1 Axes>"
            ]
          },
          "metadata": {
            "tags": [],
            "needs_background": "light"
          }
        }
      ]
    }
  ]
}