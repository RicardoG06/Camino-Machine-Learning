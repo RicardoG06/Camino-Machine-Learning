{
  "nbformat": 4,
  "nbformat_minor": 0,
  "metadata": {
    "colab": {
      "name": "Derivada Parcial.ipynb",
      "provenance": []
    },
    "kernelspec": {
      "name": "python3",
      "display_name": "Python 3"
    },
    "language_info": {
      "name": "python"
    }
  },
  "cells": [
    {
      "cell_type": "code",
      "metadata": {
        "colab": {
          "base_uri": "https://localhost:8080/"
        },
        "id": "2tdDJgXi33w6",
        "outputId": "e9d97aae-b5e8-471b-e687-d5398aa117c9"
      },
      "source": [
        "from math import *\n",
        "import sympy as sp\n",
        "\n",
        "#Funcion de derivadas parciales\n",
        "def derivada(expr, variables):\n",
        "    for der_respect in variables: #Itera de acuerdo a el array de variables\n",
        "        var = sp.Symbol(f'{der_respect}') #Se le da el simbolo de acuerdo a la iteracion \n",
        "        funcion = sp.Derivative(expr, var, evaluate=True) #Se le da la expresion , la variable \n",
        "        print(f'La derivada parcial df/d{der_respect} =  {funcion}') #Te imprime la funcion derivada\n",
        "\n",
        "\n",
        "if __name__ == '__main__':\n",
        "    variables = ['x', 'y', 'z']\n",
        "    expr = input(\"\\nFuncion a evaluar:    f(x,y,z)=\")\n",
        "    derivada(expr, variables) "
      ],
      "execution_count": 5,
      "outputs": [
        {
          "output_type": "stream",
          "text": [
            "\n",
            "Funcion a evaluar:    f(x,y,z)=sin(x) + 2*cos(y)\n",
            "La derivada parcial df/dx =  cos(x)\n",
            "La derivada parcial df/dy =  -2*sin(y)\n",
            "La derivada parcial df/dz =  0\n"
          ],
          "name": "stdout"
        }
      ]
    }
  ]
}